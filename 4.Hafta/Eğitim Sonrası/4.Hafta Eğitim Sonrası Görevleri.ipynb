{
 "cells": [
  {
   "cell_type": "markdown",
   "metadata": {},
   "source": [
    "# Problem 1\n",
    "`ogrenciler` adında bir sözlük oluşturunuz. Kullanıcıdan döngü yardımıyla 3 öğrenci için veri girmesini isteyerek öğrencilerin sırasıyla okul numarası, isim, soy isim, telefon numarası ve doğum tarihi bilgilerini alınız. Aldığınız öğrenci bilgilerini yine aynı döngü yardımıyla `ogrenciler` adındaki sözlükte saklayınız. Daha sonra öğrenci bilgilerinin bulunduğu sözlük yapısını ekrana bastırınız.\n",
    "\n"
   ]
  },
  {
   "cell_type": "code",
   "execution_count": 2,
   "metadata": {},
   "outputs": [
    {
     "name": "stdout",
     "output_type": "stream",
     "text": [
      "\n",
      "Öğrenci bilgileri:\n",
      "Okul Numarası: 12\n",
      "İsim: ali\n",
      "Soyisim: fa\n",
      "Telefon: 0532\n",
      "Doğum Tarihi: 2001-12-12\n",
      "------------------------------\n",
      "Okul Numarası: 36\n",
      "İsim: beliz\n",
      "Soyisim: sar\n",
      "Telefon: 0533\n",
      "Doğum Tarihi: 2000-09-09\n",
      "------------------------------\n",
      "Okul Numarası: 69\n",
      "İsim: şila\n",
      "Soyisim: şir\n",
      "Telefon: 0538\n",
      "Doğum Tarihi: 2005-05-05\n",
      "------------------------------\n"
     ]
    }
   ],
   "source": [
    "ogrenciler = {}\n",
    "\n",
    "for i in range(3):\n",
    "    okul_numarasi = input(f\"{i+1}. öğrencinin okul numarasını girin: \")\n",
    "    isim = input(f\"{i+1}. öğrencinin ismini girin: \")\n",
    "    soyisim = input(f\"{i+1}. öğrencinin soy ismini girin: \")\n",
    "    telefon = input(f\"{i+1}. öğrencinin telefon numarasını girin: \")\n",
    "    dogum_tarihi = input(f\"{i+1}. öğrencinin doğum tarihini girin (YYYY-AA-GG): \")\n",
    "\n",
    "\n",
    "    ogrenciler[okul_numarasi] = {\n",
    "        \"İsim\": isim,\n",
    "        \"Soyisim\": soyisim,\n",
    "        \"Telefon\": telefon,\n",
    "        \"Doğum Tarihi\": dogum_tarihi\n",
    "    }\n",
    "\n",
    "print(\"\\nÖğrenci bilgileri:\")\n",
    "for okul_numarasi, bilgiler in ogrenciler.items():\n",
    "    print(f\"Okul Numarası: {okul_numarasi}\")\n",
    "    for anahtar, deger in bilgiler.items():\n",
    "        print(f\"{anahtar}: {deger}\")\n",
    "    print(\"-\" * 30)\n"
   ]
  },
  {
   "cell_type": "markdown",
   "metadata": {},
   "source": [
    "# Problem 2\n",
    "\n",
    "### a - Biraz ısınarak başlayalım!\n",
    "\n",
    "```\n",
    "numbers = [5,10,10,15,15,15,20,20,20,20]\n",
    "```\n",
    "\n",
    "Yukarıda `numbers` adında 10 elemanlı bir liste verilmiştir. Bu listenin her elemanını kontrol eden ve tekrar eden elemanları bir kez olacak şekilde başka bir listeye kopyalayan bir program yazınız. Son olarak oluşturduğunuz listeyi ekrana bastırınız.\n",
    "\n",
    "\n",
    "\n",
    "\n",
    "```\n",
    ">Output\n",
    "[5, 10, 15, 20]\n",
    "```\n"
   ]
  },
  {
   "cell_type": "code",
   "execution_count": 5,
   "metadata": {},
   "outputs": [
    {
     "name": "stdout",
     "output_type": "stream",
     "text": [
      "[5, 10, 15, 20]\n"
     ]
    }
   ],
   "source": [
    "numbers = [5,10,10,15,15,15,20,20,20,20]\n",
    "\n",
    "numbers = list(set(numbers))\n",
    "numbers.sort()\n",
    "print(numbers)    "
   ]
  },
  {
   "cell_type": "markdown",
   "metadata": {},
   "source": [
    "### 🌶️ b) Hadi işi biraz daha zorlaştıralım! \n",
    "\n",
    "\n",
    "Şimdiyse senden `numbers` isimli listedeki tekrar eden elemanları `repeatNumbers` adındaki listeye; tekrar etmeyen elemanları `uniqueNumbers`adındaki listeye kopyalayan yazmanı ve listeleri ekrana bastırmanı bekliyoruz\n",
    "\n",
    "```\n",
    ">Output\n",
    "Tekrar Eden Elemanlar: [10, 10, 15, 15, 15, 20, 20, 20, 20]\n",
    "Tekrar Etmeyen Elemanlar: [5]\n",
    "```"
   ]
  },
  {
   "cell_type": "code",
   "execution_count": 7,
   "metadata": {},
   "outputs": [
    {
     "name": "stdout",
     "output_type": "stream",
     "text": [
      "Unique Numbers: [5]\n",
      "Repeat Numbers: [10, 15, 20]\n"
     ]
    }
   ],
   "source": [
    "numbers = [5, 10, 10, 15, 15, 15, 20, 20, 20, 20]\n",
    "\n",
    "repeatNumbers = []\n",
    "uniqueNumbers = []\n",
    "\n",
    "for i in numbers:\n",
    "    if numbers.count(i) == 1:\n",
    "        if i not in uniqueNumbers:\n",
    "            uniqueNumbers.append(i)\n",
    "    else:\n",
    "        if i not in repeatNumbers:\n",
    "            repeatNumbers.append(i)\n",
    "\n",
    "print(\"Unique Numbers:\", uniqueNumbers)\n",
    "print(\"Repeat Numbers:\", repeatNumbers)\n"
   ]
  },
  {
   "cell_type": "markdown",
   "metadata": {},
   "source": [
    "# Problem 3\n",
    "sn1 = {1,2,3,4,5}\n",
    "\n",
    "sn2 = {4,5,6,7,8}\n",
    "\n",
    " Verilen 2 adet küme için kesişimlerini, farklarını ve birleşimlerini bulunuz. "
   ]
  },
  {
   "cell_type": "code",
   "execution_count": 12,
   "metadata": {},
   "outputs": [
    {
     "name": "stdout",
     "output_type": "stream",
     "text": [
      "{4, 5}\n",
      "{1, 2, 3}\n",
      "{8, 6, 7}\n",
      "{1, 2, 3, 4, 5, 6, 7, 8}\n"
     ]
    }
   ],
   "source": [
    "sn1 = {1,2,3,4,5}\n",
    "\n",
    "sn2 = {4,5,6,7,8}\n",
    "\n",
    "kesisim = sn1 & sn2\n",
    "print(kesisim)\n",
    "\n",
    "fark1 = sn1 - sn2\n",
    "print(fark1)\n",
    "\n",
    "fark2 = sn2 - sn1\n",
    "print(fark2)\n",
    "\n",
    "birlesim = sn1 | sn2\n",
    "print(set(birlesim))"
   ]
  },
  {
   "cell_type": "markdown",
   "metadata": {},
   "source": [
    "# Problem 4\n",
    "\n",
    "Buradaki işlemlerimizin tamamı stringler içindir. Aşağıda verilecek olan metodlar için kendinizin örnek yaratması gerekmektedir. \n",
    "\n",
    "Örneğin `upper` için `string` değişkeni oluştururken` k = \"BAC\"` şeklinde oluşturmayınız. Bunun yerine k değişkenini `k = \"bac`\" şeklinde oluşturmanız `upper` metodundaki değişimi görebilmeniz için daha iyi olacaktır.\n",
    "\n",
    "Bütün metodlardaki değişimin gözle görülür şekilde değişimi beklenmektedir.\n",
    "\n",
    "\n",
    "1- capitalize(), lower(), upper(), swapcase(), title(), replace()\n",
    "\n",
    "2- endswith(), startswith(), find(), index(), count()\n",
    "\n",
    "3- split(), strip(), join(), islower(), isalpha(), isdigit()\n",
    "\n",
    "\n",
    "Yukarıdaki `string` metodlarındaki değişimleri görebildiğimiz bir program yazınız.\n"
   ]
  },
  {
   "cell_type": "code",
   "execution_count": 42,
   "metadata": {},
   "outputs": [
    {
     "data": {
      "text/plain": [
       "False"
      ]
     },
     "execution_count": 42,
     "metadata": {},
     "output_type": "execute_result"
    }
   ],
   "source": [
    "x = \"aslı\"\n",
    "x.capitalize()\n",
    "y = \"AYNI\"\n",
    "y.lower()\n",
    "z = \"ince\"\n",
    "z.upper()\n",
    "k = \"Hello World\"\n",
    "k.swapcase()\n",
    "s = \"sopa\"\n",
    "s.title()\n",
    "e = \"ali gitti.\"\n",
    "e.replace(\"ali\" , \"veli\")\n",
    "\n",
    "p = \"tutku\"\n",
    "p.endswith(\"ua\")\n",
    "\n",
    "l = \"lilak\"\n",
    "l.startswith(\"l\")\n",
    "\n",
    "a = \"asdf\" \n",
    "a.find(\"d\")\n",
    "\n",
    "r = \"kalın\"\n",
    "r.index(\"a\")\n",
    "\n",
    "t = \"sinoovak\"\n",
    "t.count(\"o\")\n",
    "\n",
    "u = \"ıspartaü,al\"\n",
    "u.split(\",\")\n",
    "\n",
    "ı = \"     dı ne ki bu\"\n",
    "ı.strip()\n",
    "\n",
    "o = \"katılmak   \"\n",
    "o.join(\"iş\")\n",
    "\n",
    "p = \"pınar\"\n",
    "p.islower()\n",
    "\n",
    "c = \"SLASFA\"\n",
    "c.isalpha()\n",
    "\n",
    "a = \"asdasdasd\"\n",
    "a.isdigit()\n"
   ]
  }
 ],
 "metadata": {
  "kernelspec": {
   "display_name": "Python 3.10.5 64-bit",
   "language": "python",
   "name": "python3"
  },
  "language_info": {
   "codemirror_mode": {
    "name": "ipython",
    "version": 3
   },
   "file_extension": ".py",
   "mimetype": "text/x-python",
   "name": "python",
   "nbconvert_exporter": "python",
   "pygments_lexer": "ipython3",
   "version": "3.11.4"
  },
  "orig_nbformat": 4,
  "vscode": {
   "interpreter": {
    "hash": "5026d2d6e7aaaaba093def813beadff083d8733e4a511af01735cbabd156995d"
   }
  }
 },
 "nbformat": 4,
 "nbformat_minor": 2
}
